{
 "cells": [
  {
   "cell_type": "code",
   "execution_count": 1,
   "id": "9de637dd-952d-4976-b8bc-39a4a54e5a2b",
   "metadata": {},
   "outputs": [],
   "source": [
    "import json\n",
    "import random\n"
   ]
  },
  {
   "cell_type": "code",
   "execution_count": 3,
   "id": "6c62bdaa-d32f-4e23-858b-0d87c458eafb",
   "metadata": {},
   "outputs": [],
   "source": [
    "with open('./SquadFr-ranker.json',encoding=\"utf-8\") as json_file:\n",
    "                squadFR = json.load(json_file)\n",
    "\n",
    "with open('./fquad-ranker.json',encoding=\"utf-8\") as json_file:\n",
    "                Fquad = json.load(json_file)\n",
    "        \n",
    "with open('./piaf-ranker.json',encoding=\"utf-8\") as json_file:\n",
    "                piaf = json.load(json_file)"
   ]
  },
  {
   "cell_type": "code",
   "execution_count": 8,
   "id": "a9fbfbef-d0c3-4e92-a24f-72fdd043622c",
   "metadata": {},
   "outputs": [],
   "source": [
    "def delete_repeated_questions(dataset):\n",
    "    \n",
    "    '''\n",
    "    Delete repeated queries\n",
    "    \n",
    "    '''\n",
    "\n",
    "    list_questions=[]\n",
    "    for index,query in enumerate(dataset):\n",
    "        question = query['question'] \n",
    "        if question in list_questions:\n",
    "            dataset.pop(index)\n",
    "        list_questions.append(question) \n",
    "    \n",
    "    return dataset"
   ]
  },
  {
   "cell_type": "code",
   "execution_count": 13,
   "id": "a88bc788-b470-4d1b-bb47-bbc8e0478bfc",
   "metadata": {},
   "outputs": [],
   "source": [
    "def split_dataset(list_,train_ratio = 0.8):\n",
    "    '''\n",
    "    Split dataset to train,dev and test sets\n",
    "    \n",
    "    '''\n",
    "    \n",
    "    random.shuffle(list_)\n",
    "    trainning_index = int(len(list_) * train_ratio)\n",
    "    train = list_[:trainning_index]\n",
    "    dev = list_[trainning_index:]\n",
    "    \n",
    "    return train,dev"
   ]
  },
  {
   "cell_type": "code",
   "execution_count": 5,
   "id": "36c6982d-c7b3-436a-b9c6-d35e35ebe15c",
   "metadata": {},
   "outputs": [
    {
     "data": {
      "text/plain": [
       "(84594, 20093, 7565)"
      ]
     },
     "execution_count": 5,
     "metadata": {},
     "output_type": "execute_result"
    }
   ],
   "source": [
    "len(squadFR),len(Fquad),len(piaf)"
   ]
  },
  {
   "cell_type": "code",
   "execution_count": 6,
   "id": "3872f52c-013d-4cce-b34c-10971080658f",
   "metadata": {},
   "outputs": [],
   "source": [
    "dataset = squadFR + Fquad + piaf"
   ]
  },
  {
   "cell_type": "code",
   "execution_count": null,
   "id": "95a34a18-4508-4486-ae53-9db73e1c8693",
   "metadata": {},
   "outputs": [],
   "source": []
  },
  {
   "cell_type": "code",
   "execution_count": 9,
   "id": "c7425133-66f6-4eca-b920-e5261afa384e",
   "metadata": {},
   "outputs": [],
   "source": [
    "dataset = delete_repeated_questions(dataset)"
   ]
  },
  {
   "cell_type": "code",
   "execution_count": 10,
   "id": "bddb1324-c86f-440d-af96-7cc50b9afcd8",
   "metadata": {},
   "outputs": [
    {
     "data": {
      "text/plain": [
       "112248"
      ]
     },
     "execution_count": 10,
     "metadata": {},
     "output_type": "execute_result"
    }
   ],
   "source": [
    "len(dataset)"
   ]
  },
  {
   "cell_type": "code",
   "execution_count": 14,
   "id": "a08f927d-eb7a-4be7-9fb1-75ead64a0162",
   "metadata": {},
   "outputs": [],
   "source": [
    "train,dev = split_dataset(dataset)"
   ]
  },
  {
   "cell_type": "code",
   "execution_count": 15,
   "id": "67e70fa1-9956-46d4-a383-07951b518162",
   "metadata": {},
   "outputs": [
    {
     "data": {
      "text/plain": [
       "(89798, 22450)"
      ]
     },
     "execution_count": 15,
     "metadata": {},
     "output_type": "execute_result"
    }
   ],
   "source": [
    "len(train),len(dev)"
   ]
  },
  {
   "cell_type": "code",
   "execution_count": 17,
   "id": "f429bd50-6a0a-4589-a924-a0c5e9822658",
   "metadata": {},
   "outputs": [],
   "source": [
    "with open('./squadFR_Fquad_piaf-train.json', 'w') as fp:\n",
    "       json.dump(train, fp)"
   ]
  },
  {
   "cell_type": "code",
   "execution_count": 18,
   "id": "ce5d3a3b-54e2-4564-88e3-525026543c7a",
   "metadata": {},
   "outputs": [],
   "source": [
    "with open('./squadFR_Fquad_piaf-dev.json', 'w') as fp:\n",
    "       json.dump(dev, fp)"
   ]
  },
  {
   "cell_type": "code",
   "execution_count": null,
   "id": "6c7d0703-a430-4d0b-b39f-da2d92a29963",
   "metadata": {},
   "outputs": [],
   "source": []
  }
 ],
 "metadata": {
  "kernelspec": {
   "display_name": "Python 3",
   "language": "python",
   "name": "python3"
  },
  "language_info": {
   "codemirror_mode": {
    "name": "ipython",
    "version": 3
   },
   "file_extension": ".py",
   "mimetype": "text/x-python",
   "name": "python",
   "nbconvert_exporter": "python",
   "pygments_lexer": "ipython3",
   "version": "3.9.4"
  }
 },
 "nbformat": 4,
 "nbformat_minor": 5
}
