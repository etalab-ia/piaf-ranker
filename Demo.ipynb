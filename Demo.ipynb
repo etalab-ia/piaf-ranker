{
 "cells": [
  {
   "cell_type": "code",
   "execution_count": 3,
   "id": "7e5416e8-6cac-45c2-b233-b263fb5accae",
   "metadata": {},
   "outputs": [],
   "source": [
    "from transformers import CamembertTokenizer,CamembertModel\n",
    "import torch \n",
    "import torch.nn as nn\n",
    "import torch.nn.functional as F\n",
    "\n",
    "from src.model import Full_Network"
   ]
  },
  {
   "cell_type": "markdown",
   "id": "5df62bcd-5322-41f3-9019-29c46f6263d4",
   "metadata": {},
   "source": [
    "## Load Tokenizer "
   ]
  },
  {
   "cell_type": "code",
   "execution_count": 4,
   "id": "4116cf28-89ca-426f-80e2-340d4cf21a57",
   "metadata": {},
   "outputs": [],
   "source": [
    "tokenizer = CamembertTokenizer.from_pretrained('camembert-base',\n",
    "                                               sep_token='</s>', \n",
    "                                               cls_token='<s>', \n",
    "                                               do_lower_case=True\n",
    "                                                )"
   ]
  },
  {
   "cell_type": "markdown",
   "id": "aa1a44dc-2d76-4553-81c2-4e39f72bb780",
   "metadata": {},
   "source": [
    "## Load Model and parameters "
   ]
  },
  {
   "cell_type": "code",
   "execution_count": 5,
   "id": "6840d84c-b35f-41ad-83a0-8cb399a5acf4",
   "metadata": {},
   "outputs": [
    {
     "data": {
      "text/plain": [
       "<All keys matched successfully>"
      ]
     },
     "execution_count": 5,
     "metadata": {},
     "output_type": "execute_result"
    }
   ],
   "source": [
    "model = Full_Network()    \n",
    "model.load_state_dict(torch.load('./models/model_train_full_finetune.pt', map_location=torch.device('cpu')))"
   ]
  },
  {
   "cell_type": "code",
   "execution_count": 30,
   "id": "edb059e7-637d-417f-b962-a5647b0362f3",
   "metadata": {},
   "outputs": [],
   "source": [
    "\n",
    "question = 'Comment s\\'appelle le portail open data du gouvernement ?'\n",
    "positive = 'Etalab est une administration publique française qui fait notamment office de Chief Data Officer de l\\'État et coordonne la conception et la mise en œuvre de sa stratégie dans le domaine de la donnée (ouverture et partage des données publiques ou open data, exploitation des données et intelligence artificielle...). Ainsi, Etalab développe et maintient le portail des données ouvertes du gouvernement français data.gouv.fr. Etalab promeut également une plus grande ouverture l\\'administration sur la société (gouvernement ouvert) : transparence de l\\'action publique, innovation ouverte, participation citoyenne... elle promeut l’innovation, l’expérimentation, les méthodes de travail ouvertes, agiles et itératives, ainsi que les synergies avec la société civile pour décloisonner l’administration et favoriser l’adoption des meilleures pratiques professionnelles dans le domaine du numérique. À ce titre elle étudie notamment l’opportunité de recourir à des technologies en voie de maturation issues du monde de la recherche. Cette entité chargée de l\\'innovation au sein de l\\'administration doit contribuer à l\\'amélioration du service public grâce au numérique. Elle est rattachée à la Direction interministérielle du numérique, dont les missions et l’organisation ont été fixées par le décret du 30 octobre 2019.  Dirigé par Laure Lucchesi depuis 2016, elle rassemble une équipe pluridisciplinaire d\\'une trentaine de personnes.'\n",
    "negative = 'Les colons américains, en particulier les marchands des ports de la Nouvelle-Angleterre, reprochaient à la Grande-Bretagne sa politique commerciale : le trafic de certaines marchandises comme le thé était réservé aux navires britanniques, en vertu du monopole en vigueur. D\\'autre part, dans le but d\\'atrophier l\\'économie américaine, les Britanniques en vinrent à interdire à leurs colonies de vendre leurs produits à un autre pays que la Grande-Bretagne, car l\\'on estimait que si les colons avaient le droit de vendre leurs produits comme bon leur semblait et à qui bon leur semblait, les treize colonies américaines regorgeraient d\\'argent, argent qui ne profiterait pas à la couronne.'\n"
   ]
  },
  {
   "cell_type": "markdown",
   "id": "d977507f-a7ca-403f-8621-141403f6254c",
   "metadata": {},
   "source": [
    "## Test the model"
   ]
  },
  {
   "cell_type": "code",
   "execution_count": 44,
   "id": "0c4e972b-00d7-4a33-a216-98d08e8efc83",
   "metadata": {},
   "outputs": [
    {
     "data": {
      "text/plain": [
       "\"Comment s'appelle le portail open data du gouvernement ?\""
      ]
     },
     "execution_count": 44,
     "metadata": {},
     "output_type": "execute_result"
    }
   ],
   "source": [
    "question'"
   ]
  },
  {
   "cell_type": "markdown",
   "id": "66924ee3-c290-4198-8303-484103c0abad",
   "metadata": {},
   "source": [
    "### positive example"
   ]
  },
  {
   "cell_type": "code",
   "execution_count": 50,
   "id": "acfcc417-a514-46c6-884c-ecd83ea3d525",
   "metadata": {},
   "outputs": [
    {
     "data": {
      "text/plain": [
       "\"Etalab est une administration publique française qui fait notamment office de Chief Data Officer de l'État et coordonne la conception et la mise en œuvre de sa stratégie dans le domaine de la donnée (ouverture et partage des données publiques ou open data, exploitation des données et intelligence artificielle...). Ainsi, Etalab développe et maintient le portail des données ouvertes du gouvernement français data.gouv.fr. Etalab promeut également une plus grande ouverture l'administration sur la société (gouvernement ouvert) : transparence de l'action publique, innovation ouverte, participation citoyenne... elle promeut l’innovation, l’expérimentation, les méthodes de travail ouvertes, agiles et itératives, ainsi que les synergies avec la société civile pour décloisonner l’administration et favoriser l’adoption des meilleures pratiques professionnelles dans le domaine du numérique. À ce titre elle étudie notamment l’opportunité de recourir à des technologies en voie de maturation issues du monde de la recherche. Cette entité chargée de l'innovation au sein de l'administration doit contribuer à l'amélioration du service public grâce au numérique. Elle est rattachée à la Direction interministérielle du numérique, dont les missions et l’organisation ont été fixées par le décret du 30 octobre 2019.\\u2009 Dirigé par Laure Lucchesi depuis 2016, elle rassemble une équipe pluridisciplinaire d'une trentaine de personnes.\""
      ]
     },
     "execution_count": 50,
     "metadata": {},
     "output_type": "execute_result"
    }
   ],
   "source": [
    "positive"
   ]
  },
  {
   "cell_type": "code",
   "execution_count": 55,
   "id": "29854b79-3ecb-4cd4-ac6c-cdd32ca95273",
   "metadata": {},
   "outputs": [],
   "source": [
    "#encode inout\n",
    "encoded_query = tokenizer.encode_plus(question,\n",
    "                                      positive,\n",
    "                                      add_special_tokens=True,\n",
    "                                      padding='max_length',\n",
    "                                      truncation=True, \n",
    "                                      return_attention_mask=True,\n",
    "                                      return_tensors=\"pt\"\n",
    "                                      )"
   ]
  },
  {
   "cell_type": "code",
   "execution_count": 56,
   "id": "6da548e4-a9a0-4f0e-b6d5-6f8eac9dcbc9",
   "metadata": {},
   "outputs": [],
   "source": [
    "#pass through the model\n",
    "\n",
    "with torch.no_grad() :\n",
    "    score = model(encoded_query['input_ids'],encoded_query['attention_mask'])"
   ]
  },
  {
   "cell_type": "code",
   "execution_count": 59,
   "id": "d240d3ca-249b-4542-b2eb-d66028555412",
   "metadata": {},
   "outputs": [
    {
     "name": "stdout",
     "output_type": "stream",
     "text": [
      "The relevance score of the positive example is : 0.9999905824661255\n"
     ]
    }
   ],
   "source": [
    "print('The relevance score of the positive example is : {}'.format(score.numpy()[0][0]))"
   ]
  },
  {
   "cell_type": "markdown",
   "id": "9adba032-5b5a-418e-83e2-bac30cdea5cc",
   "metadata": {},
   "source": [
    "### Negative example"
   ]
  },
  {
   "cell_type": "code",
   "execution_count": 52,
   "id": "8bc2b806-9b07-48c1-bf3f-817109c580d5",
   "metadata": {},
   "outputs": [
    {
     "data": {
      "text/plain": [
       "\"Les colons américains, en particulier les marchands des ports de la Nouvelle-Angleterre, reprochaient à la Grande-Bretagne sa politique commerciale : le trafic de certaines marchandises comme le thé était réservé aux navires britanniques, en vertu du monopole en vigueur. D'autre part, dans le but d'atrophier l'économie américaine, les Britanniques en vinrent à interdire à leurs colonies de vendre leurs produits à un autre pays que la Grande-Bretagne, car l'on estimait que si les colons avaient le droit de vendre leurs produits comme bon leur semblait et à qui bon leur semblait, les treize colonies américaines regorgeraient d'argent, argent qui ne profiterait pas à la couronne.\""
      ]
     },
     "execution_count": 52,
     "metadata": {},
     "output_type": "execute_result"
    }
   ],
   "source": [
    "negative"
   ]
  },
  {
   "cell_type": "code",
   "execution_count": 60,
   "id": "361d310b-baf4-497f-ba2b-c22b9c3e3468",
   "metadata": {},
   "outputs": [],
   "source": [
    "#encode input\n",
    "encoded_query = tokenizer.encode_plus(question,\n",
    "                                      negative,\n",
    "                                      add_special_tokens=True,\n",
    "                                      padding='max_length',\n",
    "                                      truncation=True, \n",
    "                                      return_attention_mask=True,\n",
    "                                      return_tensors=\"pt\"\n",
    "                                      )"
   ]
  },
  {
   "cell_type": "code",
   "execution_count": 61,
   "id": "ad0abd9b-93c6-4843-9be1-0b0b547e2b0e",
   "metadata": {},
   "outputs": [],
   "source": [
    "with torch.no_grad() :\n",
    "    score = model(encoded_query['input_ids'],encoded_query['attention_mask'])"
   ]
  },
  {
   "cell_type": "code",
   "execution_count": 62,
   "id": "222da089-375a-4def-9251-93b2cde1d1fb",
   "metadata": {},
   "outputs": [
    {
     "name": "stdout",
     "output_type": "stream",
     "text": [
      "The relevance score of the positive example is : 6.953609408810735e-05\n"
     ]
    }
   ],
   "source": [
    "print('The relevance score of the positive example is : {}'.format(score.numpy()[0][0]))"
   ]
  }
 ],
 "metadata": {
  "kernelspec": {
   "display_name": "Python 3",
   "language": "python",
   "name": "python3"
  },
  "language_info": {
   "codemirror_mode": {
    "name": "ipython",
    "version": 3
   },
   "file_extension": ".py",
   "mimetype": "text/x-python",
   "name": "python",
   "nbconvert_exporter": "python",
   "pygments_lexer": "ipython3",
   "version": "3.9.4"
  }
 },
 "nbformat": 4,
 "nbformat_minor": 5
}
